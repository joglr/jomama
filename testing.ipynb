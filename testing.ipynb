{
 "cells": [
  {
   "cell_type": "code",
   "execution_count": 2,
   "metadata": {},
   "outputs": [],
   "source": [
    "from importlib import reload\n",
    "\n"
   ]
  },
  {
   "cell_type": "code",
   "execution_count": 45,
   "metadata": {},
   "outputs": [
    {
     "data": {
      "text/plain": [
       "270"
      ]
     },
     "execution_count": 45,
     "metadata": {},
     "output_type": "execute_result"
    }
   ],
   "source": [
    "find_direction('worlds/board.txt')"
   ]
  },
  {
   "cell_type": "code",
   "execution_count": 43,
   "metadata": {},
   "outputs": [
    {
     "data": {
      "text/plain": [
       "'$'"
      ]
     },
     "execution_count": 43,
     "metadata": {},
     "output_type": "execute_result"
    }
   ],
   "source": [
    "world[target_position[0][0] - 1][target_position[0][1]]"
   ]
  },
  {
   "cell_type": "code",
   "execution_count": 29,
   "metadata": {},
   "outputs": [
    {
     "data": {
      "text/plain": [
       "[(3, 3)]"
      ]
     },
     "execution_count": 29,
     "metadata": {},
     "output_type": "execute_result"
    }
   ],
   "source": [
    "target_position"
   ]
  },
  {
   "cell_type": "code",
   "execution_count": 11,
   "metadata": {},
   "outputs": [],
   "source": [
    "import sokoban_new\n",
    "reload(sokoban_new)\n",
    "\n",
    "from sokoban_new import parse_world_competition_format\n",
    "from sokoban_new import parse_world"
   ]
  },
  {
   "cell_type": "code",
   "execution_count": 7,
   "metadata": {},
   "outputs": [
    {
     "data": {
      "text/plain": [
       "[['X', 'X', 'X', 'X', 'X', 'X'],\n",
       " ['X', '@', ' ', ' ', '.', 'X'],\n",
       " ['X', ' ', '$', ' ', ' ', 'X'],\n",
       " ['X', '.', '$', ' ', ' ', 'X'],\n",
       " ['X', ' ', '$', ' ', '.', 'X'],\n",
       " ['X', 'X', 'X', 'X', 'X', 'X']]"
      ]
     },
     "execution_count": 7,
     "metadata": {},
     "output_type": "execute_result"
    }
   ],
   "source": [
    "parse_world_competition_format('worlds/comp_world.txt')"
   ]
  },
  {
   "cell_type": "code",
   "execution_count": 8,
   "metadata": {},
   "outputs": [
    {
     "data": {
      "text/plain": [
       "[['X', 'X', 'X', 'X', 'X', 'X', 'X', 'X', 'X'],\n",
       " ['X', '@', ' ', ' ', ' ', ' ', ' ', ' ', 'X'],\n",
       " ['X', '.', 'X', '$', 'X', ' ', 'X', ' ', 'X'],\n",
       " ['X', ' ', ' ', ' ', ' ', ' ', ' ', ' ', 'X'],\n",
       " ['X', ' ', 'X', '$', 'X', ' ', 'X', ' ', 'X'],\n",
       " ['X', ' ', ' ', ' ', ' ', ' ', '.', ' ', 'X'],\n",
       " ['X', ' ', 'X', ' ', 'X', ' ', 'X', ' ', 'X'],\n",
       " ['X', ' ', ' ', ' ', ' ', ' ', ' ', ' ', 'X'],\n",
       " ['X', 'X', 'X', 'X', 'X', 'X', 'X', 'X', 'X']]"
      ]
     },
     "execution_count": 8,
     "metadata": {},
     "output_type": "execute_result"
    }
   ],
   "source": [
    "parse_world('worlds/world.txt')"
   ]
  },
  {
   "cell_type": "code",
   "execution_count": 9,
   "metadata": {},
   "outputs": [],
   "source": [
    "from sokoban_new import solve"
   ]
  },
  {
   "cell_type": "code",
   "execution_count": 14,
   "metadata": {},
   "outputs": [
    {
     "name": "stdout",
     "output_type": "stream",
     "text": [
      "['down', 'down', 'down', 'right', 'right', 'right', 'left', 'up', 'left', 'left', 'right', 'up', 'up', 'down', 'left', 'up', 'right', 'right', 'right']\n",
      "Final state:\n",
      "XXXXXX\n",
      "X  @$X\n",
      "X    X\n",
      "X$   X\n",
      "X   $X\n",
      "XXXXXX\n"
     ]
    },
    {
     "data": {
      "text/plain": [
       "['down',\n",
       " 'down',\n",
       " 'down',\n",
       " 'right',\n",
       " 'right',\n",
       " 'right',\n",
       " 'left',\n",
       " 'up',\n",
       " 'left',\n",
       " 'left',\n",
       " 'right',\n",
       " 'up',\n",
       " 'up',\n",
       " 'down',\n",
       " 'left',\n",
       " 'up',\n",
       " 'right',\n",
       " 'right',\n",
       " 'right']"
      ]
     },
     "execution_count": 14,
     "metadata": {},
     "output_type": "execute_result"
    }
   ],
   "source": [
    "# saving instructions for later use (taked a million years otherwise)\n",
    "\n",
    "input_ = \"worlds/comp_world.txt\"\n",
    "\n",
    "instructions = solve(input_, competition_format=True)\n",
    "\n",
    "\n",
    "with open('instruction_set.txt', 'w') as f:\n",
    "    for instruction in instructions:\n",
    "        f.write(instruction)\n",
    "        f.write('\\n')\n",
    "instructions"
   ]
  },
  {
   "cell_type": "code",
   "execution_count": null,
   "metadata": {},
   "outputs": [],
   "source": []
  }
 ],
 "metadata": {
  "kernelspec": {
   "display_name": "robotics",
   "language": "python",
   "name": "python3"
  },
  "language_info": {
   "codemirror_mode": {
    "name": "ipython",
    "version": 3
   },
   "file_extension": ".py",
   "mimetype": "text/x-python",
   "name": "python",
   "nbconvert_exporter": "python",
   "pygments_lexer": "ipython3",
   "version": "3.12.6"
  }
 },
 "nbformat": 4,
 "nbformat_minor": 2
}
